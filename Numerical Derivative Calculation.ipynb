{
  "nbformat": 4,
  "nbformat_minor": 0,
  "metadata": {
    "colab": {
      "provenance": [],
      "authorship_tag": "ABX9TyM2Pu8Ai+FzAGVx1/ID/Nv3"
    },
    "kernelspec": {
      "name": "python3",
      "display_name": "Python 3"
    },
    "language_info": {
      "name": "python"
    }
  },
  "cells": [
    {
      "cell_type": "code",
      "execution_count": null,
      "metadata": {
        "id": "TdNnxYreJcoJ"
      },
      "outputs": [],
      "source": [
        "def numerical_derivative_1d(func, epsilon):\n",
        "    \"\"\"\n",
        "    Function for approximating the derivative of a single-variable function.\n",
        "    :param func: float -> float — an arbitrary differentiable function\n",
        "    :param epsilon: float — the maximum increment along the x-axis\n",
        "    :return: another function that approximates the derivative at a point\n",
        "    \"\"\"\n",
        "    def deriv_func(x):\n",
        "        \"\"\"\n",
        "        :param x: float — the point at which to compute the derivative\n",
        "        :return: the approximate value of the derivative at this point\n",
        "        \"\"\"\n",
        "        return (func(x + epsilon) - func(x)) / epsilon\n",
        "\n",
        "    return deriv_func\n",
        "\n",
        "\n",
        "import math\n",
        "\n",
        "# Define the function for which we want to compute the derivative\n",
        "def f(x):\n",
        "    return math.tan(x) * math.log(math.cos(x**2) + 1)\n",
        "\n",
        "# Define the value of ε\n",
        "epsilon = 1e-5"
      ]
    }
  ]
}