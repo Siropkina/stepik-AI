{
  "nbformat": 4,
  "nbformat_minor": 0,
  "metadata": {
    "colab": {
      "provenance": [],
      "authorship_tag": "ABX9TyNWx3BGMGfsOD8Pj4+vLlho"
    },
    "kernelspec": {
      "name": "python3",
      "display_name": "Python 3"
    },
    "language_info": {
      "name": "python"
    }
  },
  "cells": [
    {
      "cell_type": "code",
      "execution_count": null,
      "metadata": {
        "id": "TdNnxYreJcoJ"
      },
      "outputs": [],
      "source": [
        "import numpy as np\n",
        "\n",
        "\n",
        "class MyLinearRegression:\n",
        "\n",
        "    def init(self):\n",
        "        self.coef_ = None\n",
        "        self.intercept_ = None\n",
        "    def fit(self, X, y):\n",
        "        X = np.array(X)\n",
        "        y = np.array(y)\n",
        "\n",
        "        X_new = np.column_stack([X, np.ones(X.shape[0])])\n",
        "        self.coef_ = np.linalg.inv(X_new.T @ X_new) @ X_new.T @ y\n",
        "        self.intercept_ = self.coef_[-1]\n",
        "        self.coef_ = self.coef_[:-1]\n",
        "\n",
        "    def predict(self, X):\n",
        "        X_new = np.column_stack([X, np.ones(X.shape[0])])\n",
        "        y_pred = X_new @ np.append(self.coef_, self.intercept_)\n",
        "\n",
        "        return y_pred"
      ]
    }
  ]
}