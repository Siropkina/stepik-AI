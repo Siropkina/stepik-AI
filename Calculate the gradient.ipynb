{
  "nbformat": 4,
  "nbformat_minor": 0,
  "metadata": {
    "colab": {
      "provenance": [],
      "authorship_tag": "ABX9TyNUhvq6vaBJUX7ljAY4SJrx"
    },
    "kernelspec": {
      "name": "python3",
      "display_name": "Python 3"
    },
    "language_info": {
      "name": "python"
    }
  },
  "cells": [
    {
      "cell_type": "code",
      "execution_count": null,
      "metadata": {
        "id": "TdNnxYreJcoJ"
      },
      "outputs": [],
      "source": [
        "from math import sin, cos, exp, pi\n",
        "\n",
        "def grad_1(x, y, z):\n",
        "    \"\"\"\n",
        "    Computes the gradient of the function ψ(x, y, z) = sin(xz) - y^2z + e^x.\n",
        "    :param x: float — the x argument\n",
        "    :param y: float — the y argument\n",
        "    :param z: float — the z argument\n",
        "    :return: tuple — a tuple of partial derivatives with respect to x, y, and z\n",
        "    \"\"\"\n",
        "    dx = z * cos(x * z) + exp(x)  # Partial derivative with respect to x\n",
        "    dy = -2 * y * z  # Partial derivative with respect to y\n",
        "    dz = x * cos(x * z) - y**2  # Partial derivative with respect to z\n",
        "\n",
        "    return (dx, dy, dz)  # Return the gradient as a tuple"
      ]
    }
  ]
}