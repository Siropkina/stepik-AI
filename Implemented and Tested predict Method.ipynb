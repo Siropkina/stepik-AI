{
  "nbformat": 4,
  "nbformat_minor": 0,
  "metadata": {
    "colab": {
      "provenance": [],
      "authorship_tag": "ABX9TyNrkv7DRiRMOs5/rwQ/e/Zf"
    },
    "kernelspec": {
      "name": "python3",
      "display_name": "Python 3"
    },
    "language_info": {
      "name": "python"
    }
  },
  "cells": [
    {
      "cell_type": "code",
      "execution_count": null,
      "metadata": {
        "id": "TdNnxYreJcoJ"
      },
      "outputs": [],
      "source": [
        "import numpy as np\n",
        "\n",
        "class MyLinearRegression:  # This code defines the MyLinearRegression class,\n",
        "                            # which represents a linear regression model.\n",
        "\n",
        "    def __init__(self):  # In the constructor __init__, the attributes coef_ and intercept_ are initialized to None.\n",
        "                        # These attributes will be used to store the coefficients and intercept of the linear regression, respectively.\n",
        "        self.coef_ = None\n",
        "        self.intercept_ = None\n",
        "\n",
        "    def fit(self, X, y):  # This code defines the fit method for the MyLinearRegression class,\n",
        "                         # which takes the feature matrix X and target vector y as inputs.\n",
        "        X = np.array(X)\n",
        "        y = np.array(y)  # In this method, the input array X and vector y are first converted to NumPy arrays using np.array().\n",
        "                         # Then, a new matrix X_new is created by stacking matrix X and a column of ones.\n",
        "        X_new = np.column_stack([X, np.ones(X.shape[0])])  # This is done using the np.column_stack() function,\n",
        "                                                           # which combines arrays column-wise.\n",
        "\n",
        "        self.coef_ = np.linalg.inv(X_new.T @ X_new) @ X_new.T @ y  # Here, the coefficients are calculated using the normal equation.\n",
        "\n",
        "        self.intercept_ = self.coef_[-1]  # The last coefficient is assigned to the intercept.\n",
        "        self.coef_ = self.coef_[:-1]      # The remaining coefficients are assigned to coef_.\n",
        "\n",
        "    def predict(self, X):  # This code defines the predict method for the MyLinearRegression class,\n",
        "                          # which takes the feature matrix X as input and returns the predicted values of the target variable.\n",
        "        X_new = np.column_stack([X, np.ones(X.shape[0])])  # A new matrix X_new is created by stacking X and a column of ones.\n",
        "\n",
        "        y_pred = X_new @ np.append(self.coef_, self.intercept_)  # Predictions are made by multiplying the matrix X_new by the coefficient vector,\n",
        "                                                                   # which is formed by appending self.coef_ and self.intercept_ using np.append().\n",
        "\n",
        "        return y_pred  # The predicted values are returned."
      ]
    }
  ]
}